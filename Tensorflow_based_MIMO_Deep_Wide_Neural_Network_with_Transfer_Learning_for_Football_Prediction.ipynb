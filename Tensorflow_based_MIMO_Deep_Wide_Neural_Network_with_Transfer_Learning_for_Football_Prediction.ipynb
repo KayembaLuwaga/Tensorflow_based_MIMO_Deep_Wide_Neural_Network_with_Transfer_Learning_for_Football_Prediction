{
  "cells": [
    {
      "cell_type": "markdown",
      "source": [
        "# Install the libs"
      ],
      "metadata": {
        "id": "FsfNyw1Z0oHH"
      }
    },
    {
      "cell_type": "code",
      "execution_count": null,
      "metadata": {
        "colab": {
          "base_uri": "https://localhost:8080/"
        },
        "id": "57uDmgTpGPp_",
        "outputId": "970e6d1e-03b7-4e3d-d421-be6e3cfe01d5"
      },
      "outputs": [
        {
          "output_type": "stream",
          "name": "stdout",
          "text": [
            "Requirement already satisfied: pandas in /usr/local/lib/python3.10/dist-packages (1.5.3)\n",
            "Requirement already satisfied: numpy in /usr/local/lib/python3.10/dist-packages (1.23.5)\n",
            "Requirement already satisfied: matplotlib in /usr/local/lib/python3.10/dist-packages (3.7.1)\n",
            "Requirement already satisfied: python-dateutil>=2.8.1 in /usr/local/lib/python3.10/dist-packages (from pandas) (2.8.2)\n",
            "Requirement already satisfied: pytz>=2020.1 in /usr/local/lib/python3.10/dist-packages (from pandas) (2023.3.post1)\n",
            "Requirement already satisfied: contourpy>=1.0.1 in /usr/local/lib/python3.10/dist-packages (from matplotlib) (1.2.0)\n",
            "Requirement already satisfied: cycler>=0.10 in /usr/local/lib/python3.10/dist-packages (from matplotlib) (0.12.1)\n",
            "Requirement already satisfied: fonttools>=4.22.0 in /usr/local/lib/python3.10/dist-packages (from matplotlib) (4.47.2)\n",
            "Requirement already satisfied: kiwisolver>=1.0.1 in /usr/local/lib/python3.10/dist-packages (from matplotlib) (1.4.5)\n",
            "Requirement already satisfied: packaging>=20.0 in /usr/local/lib/python3.10/dist-packages (from matplotlib) (23.2)\n",
            "Requirement already satisfied: pillow>=6.2.0 in /usr/local/lib/python3.10/dist-packages (from matplotlib) (9.4.0)\n",
            "Requirement already satisfied: pyparsing>=2.3.1 in /usr/local/lib/python3.10/dist-packages (from matplotlib) (3.1.1)\n",
            "Requirement already satisfied: six>=1.5 in /usr/local/lib/python3.10/dist-packages (from python-dateutil>=2.8.1->pandas) (1.16.0)\n",
            "Requirement already satisfied: scikit-learn in /usr/local/lib/python3.10/dist-packages (1.2.2)\n",
            "Requirement already satisfied: numpy>=1.17.3 in /usr/local/lib/python3.10/dist-packages (from scikit-learn) (1.23.5)\n",
            "Requirement already satisfied: scipy>=1.3.2 in /usr/local/lib/python3.10/dist-packages (from scikit-learn) (1.11.4)\n",
            "Requirement already satisfied: joblib>=1.1.1 in /usr/local/lib/python3.10/dist-packages (from scikit-learn) (1.3.2)\n",
            "Requirement already satisfied: threadpoolctl>=2.0.0 in /usr/local/lib/python3.10/dist-packages (from scikit-learn) (3.2.0)\n",
            "Requirement already satisfied: google-colab in /usr/local/lib/python3.10/dist-packages (1.0.0)\n",
            "Requirement already satisfied: google-auth==2.17.3 in /usr/local/lib/python3.10/dist-packages (from google-colab) (2.17.3)\n",
            "Requirement already satisfied: ipykernel==5.5.6 in /usr/local/lib/python3.10/dist-packages (from google-colab) (5.5.6)\n",
            "Requirement already satisfied: ipython==7.34.0 in /usr/local/lib/python3.10/dist-packages (from google-colab) (7.34.0)\n",
            "Requirement already satisfied: notebook==6.5.5 in /usr/local/lib/python3.10/dist-packages (from google-colab) (6.5.5)\n",
            "Requirement already satisfied: pandas==1.5.3 in /usr/local/lib/python3.10/dist-packages (from google-colab) (1.5.3)\n",
            "Requirement already satisfied: portpicker==1.5.2 in /usr/local/lib/python3.10/dist-packages (from google-colab) (1.5.2)\n",
            "Requirement already satisfied: requests==2.31.0 in /usr/local/lib/python3.10/dist-packages (from google-colab) (2.31.0)\n",
            "Requirement already satisfied: tornado==6.3.2 in /usr/local/lib/python3.10/dist-packages (from google-colab) (6.3.2)\n",
            "Requirement already satisfied: cachetools<6.0,>=2.0.0 in /usr/local/lib/python3.10/dist-packages (from google-auth==2.17.3->google-colab) (5.3.2)\n",
            "Requirement already satisfied: pyasn1-modules>=0.2.1 in /usr/local/lib/python3.10/dist-packages (from google-auth==2.17.3->google-colab) (0.3.0)\n",
            "Requirement already satisfied: six>=1.9.0 in /usr/local/lib/python3.10/dist-packages (from google-auth==2.17.3->google-colab) (1.16.0)\n",
            "Requirement already satisfied: rsa<5,>=3.1.4 in /usr/local/lib/python3.10/dist-packages (from google-auth==2.17.3->google-colab) (4.9)\n",
            "Requirement already satisfied: ipython-genutils in /usr/local/lib/python3.10/dist-packages (from ipykernel==5.5.6->google-colab) (0.2.0)\n",
            "Requirement already satisfied: traitlets>=4.1.0 in /usr/local/lib/python3.10/dist-packages (from ipykernel==5.5.6->google-colab) (5.7.1)\n",
            "Requirement already satisfied: jupyter-client in /usr/local/lib/python3.10/dist-packages (from ipykernel==5.5.6->google-colab) (6.1.12)\n",
            "Requirement already satisfied: setuptools>=18.5 in /usr/local/lib/python3.10/dist-packages (from ipython==7.34.0->google-colab) (67.7.2)\n",
            "Requirement already satisfied: jedi>=0.16 in /usr/local/lib/python3.10/dist-packages (from ipython==7.34.0->google-colab) (0.19.1)\n",
            "Requirement already satisfied: decorator in /usr/local/lib/python3.10/dist-packages (from ipython==7.34.0->google-colab) (4.4.2)\n",
            "Requirement already satisfied: pickleshare in /usr/local/lib/python3.10/dist-packages (from ipython==7.34.0->google-colab) (0.7.5)\n",
            "Requirement already satisfied: prompt-toolkit!=3.0.0,!=3.0.1,<3.1.0,>=2.0.0 in /usr/local/lib/python3.10/dist-packages (from ipython==7.34.0->google-colab) (3.0.43)\n",
            "Requirement already satisfied: pygments in /usr/local/lib/python3.10/dist-packages (from ipython==7.34.0->google-colab) (2.16.1)\n",
            "Requirement already satisfied: backcall in /usr/local/lib/python3.10/dist-packages (from ipython==7.34.0->google-colab) (0.2.0)\n",
            "Requirement already satisfied: matplotlib-inline in /usr/local/lib/python3.10/dist-packages (from ipython==7.34.0->google-colab) (0.1.6)\n",
            "Requirement already satisfied: pexpect>4.3 in /usr/local/lib/python3.10/dist-packages (from ipython==7.34.0->google-colab) (4.9.0)\n",
            "Requirement already satisfied: jinja2 in /usr/local/lib/python3.10/dist-packages (from notebook==6.5.5->google-colab) (3.1.3)\n",
            "Requirement already satisfied: pyzmq<25,>=17 in /usr/local/lib/python3.10/dist-packages (from notebook==6.5.5->google-colab) (23.2.1)\n",
            "Requirement already satisfied: argon2-cffi in /usr/local/lib/python3.10/dist-packages (from notebook==6.5.5->google-colab) (23.1.0)\n",
            "Requirement already satisfied: jupyter-core>=4.6.1 in /usr/local/lib/python3.10/dist-packages (from notebook==6.5.5->google-colab) (5.7.1)\n",
            "Requirement already satisfied: nbformat in /usr/local/lib/python3.10/dist-packages (from notebook==6.5.5->google-colab) (5.9.2)\n",
            "Requirement already satisfied: nbconvert>=5 in /usr/local/lib/python3.10/dist-packages (from notebook==6.5.5->google-colab) (6.5.4)\n",
            "Requirement already satisfied: nest-asyncio>=1.5 in /usr/local/lib/python3.10/dist-packages (from notebook==6.5.5->google-colab) (1.6.0)\n",
            "Requirement already satisfied: Send2Trash>=1.8.0 in /usr/local/lib/python3.10/dist-packages (from notebook==6.5.5->google-colab) (1.8.2)\n",
            "Requirement already satisfied: terminado>=0.8.3 in /usr/local/lib/python3.10/dist-packages (from notebook==6.5.5->google-colab) (0.18.0)\n",
            "Requirement already satisfied: prometheus-client in /usr/local/lib/python3.10/dist-packages (from notebook==6.5.5->google-colab) (0.19.0)\n",
            "Requirement already satisfied: nbclassic>=0.4.7 in /usr/local/lib/python3.10/dist-packages (from notebook==6.5.5->google-colab) (1.0.0)\n",
            "Requirement already satisfied: python-dateutil>=2.8.1 in /usr/local/lib/python3.10/dist-packages (from pandas==1.5.3->google-colab) (2.8.2)\n",
            "Requirement already satisfied: pytz>=2020.1 in /usr/local/lib/python3.10/dist-packages (from pandas==1.5.3->google-colab) (2023.3.post1)\n",
            "Requirement already satisfied: numpy>=1.21.0 in /usr/local/lib/python3.10/dist-packages (from pandas==1.5.3->google-colab) (1.23.5)\n",
            "Requirement already satisfied: psutil in /usr/local/lib/python3.10/dist-packages (from portpicker==1.5.2->google-colab) (5.9.5)\n",
            "Requirement already satisfied: charset-normalizer<4,>=2 in /usr/local/lib/python3.10/dist-packages (from requests==2.31.0->google-colab) (3.3.2)\n",
            "Requirement already satisfied: idna<4,>=2.5 in /usr/local/lib/python3.10/dist-packages (from requests==2.31.0->google-colab) (3.6)\n",
            "Requirement already satisfied: urllib3<3,>=1.21.1 in /usr/local/lib/python3.10/dist-packages (from requests==2.31.0->google-colab) (2.0.7)\n",
            "Requirement already satisfied: certifi>=2017.4.17 in /usr/local/lib/python3.10/dist-packages (from requests==2.31.0->google-colab) (2023.11.17)\n",
            "Requirement already satisfied: parso<0.9.0,>=0.8.3 in /usr/local/lib/python3.10/dist-packages (from jedi>=0.16->ipython==7.34.0->google-colab) (0.8.3)\n",
            "Requirement already satisfied: platformdirs>=2.5 in /usr/local/lib/python3.10/dist-packages (from jupyter-core>=4.6.1->notebook==6.5.5->google-colab) (4.1.0)\n",
            "Requirement already satisfied: jupyter-server>=1.8 in /usr/local/lib/python3.10/dist-packages (from nbclassic>=0.4.7->notebook==6.5.5->google-colab) (1.24.0)\n",
            "Requirement already satisfied: notebook-shim>=0.2.3 in /usr/local/lib/python3.10/dist-packages (from nbclassic>=0.4.7->notebook==6.5.5->google-colab) (0.2.3)\n",
            "Requirement already satisfied: lxml in /usr/local/lib/python3.10/dist-packages (from nbconvert>=5->notebook==6.5.5->google-colab) (4.9.4)\n",
            "Requirement already satisfied: beautifulsoup4 in /usr/local/lib/python3.10/dist-packages (from nbconvert>=5->notebook==6.5.5->google-colab) (4.11.2)\n",
            "Requirement already satisfied: bleach in /usr/local/lib/python3.10/dist-packages (from nbconvert>=5->notebook==6.5.5->google-colab) (6.1.0)\n",
            "Requirement already satisfied: defusedxml in /usr/local/lib/python3.10/dist-packages (from nbconvert>=5->notebook==6.5.5->google-colab) (0.7.1)\n",
            "Requirement already satisfied: entrypoints>=0.2.2 in /usr/local/lib/python3.10/dist-packages (from nbconvert>=5->notebook==6.5.5->google-colab) (0.4)\n",
            "Requirement already satisfied: jupyterlab-pygments in /usr/local/lib/python3.10/dist-packages (from nbconvert>=5->notebook==6.5.5->google-colab) (0.3.0)\n",
            "Requirement already satisfied: MarkupSafe>=2.0 in /usr/local/lib/python3.10/dist-packages (from nbconvert>=5->notebook==6.5.5->google-colab) (2.1.4)\n",
            "Requirement already satisfied: mistune<2,>=0.8.1 in /usr/local/lib/python3.10/dist-packages (from nbconvert>=5->notebook==6.5.5->google-colab) (0.8.4)\n",
            "Requirement already satisfied: nbclient>=0.5.0 in /usr/local/lib/python3.10/dist-packages (from nbconvert>=5->notebook==6.5.5->google-colab) (0.9.0)\n",
            "Requirement already satisfied: packaging in /usr/local/lib/python3.10/dist-packages (from nbconvert>=5->notebook==6.5.5->google-colab) (23.2)\n",
            "Requirement already satisfied: pandocfilters>=1.4.1 in /usr/local/lib/python3.10/dist-packages (from nbconvert>=5->notebook==6.5.5->google-colab) (1.5.1)\n",
            "Requirement already satisfied: tinycss2 in /usr/local/lib/python3.10/dist-packages (from nbconvert>=5->notebook==6.5.5->google-colab) (1.2.1)\n",
            "Requirement already satisfied: fastjsonschema in /usr/local/lib/python3.10/dist-packages (from nbformat->notebook==6.5.5->google-colab) (2.19.1)\n",
            "Requirement already satisfied: jsonschema>=2.6 in /usr/local/lib/python3.10/dist-packages (from nbformat->notebook==6.5.5->google-colab) (4.19.2)\n",
            "Requirement already satisfied: ptyprocess>=0.5 in /usr/local/lib/python3.10/dist-packages (from pexpect>4.3->ipython==7.34.0->google-colab) (0.7.0)\n",
            "Requirement already satisfied: wcwidth in /usr/local/lib/python3.10/dist-packages (from prompt-toolkit!=3.0.0,!=3.0.1,<3.1.0,>=2.0.0->ipython==7.34.0->google-colab) (0.2.13)\n",
            "Requirement already satisfied: pyasn1<0.6.0,>=0.4.6 in /usr/local/lib/python3.10/dist-packages (from pyasn1-modules>=0.2.1->google-auth==2.17.3->google-colab) (0.5.1)\n",
            "Requirement already satisfied: argon2-cffi-bindings in /usr/local/lib/python3.10/dist-packages (from argon2-cffi->notebook==6.5.5->google-colab) (21.2.0)\n",
            "Requirement already satisfied: attrs>=22.2.0 in /usr/local/lib/python3.10/dist-packages (from jsonschema>=2.6->nbformat->notebook==6.5.5->google-colab) (23.2.0)\n",
            "Requirement already satisfied: jsonschema-specifications>=2023.03.6 in /usr/local/lib/python3.10/dist-packages (from jsonschema>=2.6->nbformat->notebook==6.5.5->google-colab) (2023.12.1)\n",
            "Requirement already satisfied: referencing>=0.28.4 in /usr/local/lib/python3.10/dist-packages (from jsonschema>=2.6->nbformat->notebook==6.5.5->google-colab) (0.32.1)\n",
            "Requirement already satisfied: rpds-py>=0.7.1 in /usr/local/lib/python3.10/dist-packages (from jsonschema>=2.6->nbformat->notebook==6.5.5->google-colab) (0.17.1)\n",
            "Requirement already satisfied: anyio<4,>=3.1.0 in /usr/local/lib/python3.10/dist-packages (from jupyter-server>=1.8->nbclassic>=0.4.7->notebook==6.5.5->google-colab) (3.7.1)\n",
            "Requirement already satisfied: websocket-client in /usr/local/lib/python3.10/dist-packages (from jupyter-server>=1.8->nbclassic>=0.4.7->notebook==6.5.5->google-colab) (1.7.0)\n",
            "Requirement already satisfied: cffi>=1.0.1 in /usr/local/lib/python3.10/dist-packages (from argon2-cffi-bindings->argon2-cffi->notebook==6.5.5->google-colab) (1.16.0)\n",
            "Requirement already satisfied: soupsieve>1.2 in /usr/local/lib/python3.10/dist-packages (from beautifulsoup4->nbconvert>=5->notebook==6.5.5->google-colab) (2.5)\n",
            "Requirement already satisfied: webencodings in /usr/local/lib/python3.10/dist-packages (from bleach->nbconvert>=5->notebook==6.5.5->google-colab) (0.5.1)\n",
            "Requirement already satisfied: sniffio>=1.1 in /usr/local/lib/python3.10/dist-packages (from anyio<4,>=3.1.0->jupyter-server>=1.8->nbclassic>=0.4.7->notebook==6.5.5->google-colab) (1.3.0)\n",
            "Requirement already satisfied: exceptiongroup in /usr/local/lib/python3.10/dist-packages (from anyio<4,>=3.1.0->jupyter-server>=1.8->nbclassic>=0.4.7->notebook==6.5.5->google-colab) (1.2.0)\n",
            "Requirement already satisfied: pycparser in /usr/local/lib/python3.10/dist-packages (from cffi>=1.0.1->argon2-cffi-bindings->argon2-cffi->notebook==6.5.5->google-colab) (2.21)\n",
            "Requirement already satisfied: tensorflow in /usr/local/lib/python3.10/dist-packages (2.15.0)\n",
            "Requirement already satisfied: absl-py>=1.0.0 in /usr/local/lib/python3.10/dist-packages (from tensorflow) (1.4.0)\n",
            "Requirement already satisfied: astunparse>=1.6.0 in /usr/local/lib/python3.10/dist-packages (from tensorflow) (1.6.3)\n",
            "Requirement already satisfied: flatbuffers>=23.5.26 in /usr/local/lib/python3.10/dist-packages (from tensorflow) (23.5.26)\n",
            "Requirement already satisfied: gast!=0.5.0,!=0.5.1,!=0.5.2,>=0.2.1 in /usr/local/lib/python3.10/dist-packages (from tensorflow) (0.5.4)\n",
            "Requirement already satisfied: google-pasta>=0.1.1 in /usr/local/lib/python3.10/dist-packages (from tensorflow) (0.2.0)\n",
            "Requirement already satisfied: h5py>=2.9.0 in /usr/local/lib/python3.10/dist-packages (from tensorflow) (3.9.0)\n",
            "Requirement already satisfied: libclang>=13.0.0 in /usr/local/lib/python3.10/dist-packages (from tensorflow) (16.0.6)\n",
            "Requirement already satisfied: ml-dtypes~=0.2.0 in /usr/local/lib/python3.10/dist-packages (from tensorflow) (0.2.0)\n",
            "Requirement already satisfied: numpy<2.0.0,>=1.23.5 in /usr/local/lib/python3.10/dist-packages (from tensorflow) (1.23.5)\n",
            "Requirement already satisfied: opt-einsum>=2.3.2 in /usr/local/lib/python3.10/dist-packages (from tensorflow) (3.3.0)\n",
            "Requirement already satisfied: packaging in /usr/local/lib/python3.10/dist-packages (from tensorflow) (23.2)\n",
            "Requirement already satisfied: protobuf!=4.21.0,!=4.21.1,!=4.21.2,!=4.21.3,!=4.21.4,!=4.21.5,<5.0.0dev,>=3.20.3 in /usr/local/lib/python3.10/dist-packages (from tensorflow) (3.20.3)\n",
            "Requirement already satisfied: setuptools in /usr/local/lib/python3.10/dist-packages (from tensorflow) (67.7.2)\n",
            "Requirement already satisfied: six>=1.12.0 in /usr/local/lib/python3.10/dist-packages (from tensorflow) (1.16.0)\n",
            "Requirement already satisfied: termcolor>=1.1.0 in /usr/local/lib/python3.10/dist-packages (from tensorflow) (2.4.0)\n",
            "Requirement already satisfied: typing-extensions>=3.6.6 in /usr/local/lib/python3.10/dist-packages (from tensorflow) (4.5.0)\n",
            "Requirement already satisfied: wrapt<1.15,>=1.11.0 in /usr/local/lib/python3.10/dist-packages (from tensorflow) (1.14.1)\n",
            "Requirement already satisfied: tensorflow-io-gcs-filesystem>=0.23.1 in /usr/local/lib/python3.10/dist-packages (from tensorflow) (0.35.0)\n",
            "Requirement already satisfied: grpcio<2.0,>=1.24.3 in /usr/local/lib/python3.10/dist-packages (from tensorflow) (1.60.0)\n",
            "Requirement already satisfied: tensorboard<2.16,>=2.15 in /usr/local/lib/python3.10/dist-packages (from tensorflow) (2.15.1)\n",
            "Requirement already satisfied: tensorflow-estimator<2.16,>=2.15.0 in /usr/local/lib/python3.10/dist-packages (from tensorflow) (2.15.0)\n",
            "Requirement already satisfied: keras<2.16,>=2.15.0 in /usr/local/lib/python3.10/dist-packages (from tensorflow) (2.15.0)\n",
            "Requirement already satisfied: wheel<1.0,>=0.23.0 in /usr/local/lib/python3.10/dist-packages (from astunparse>=1.6.0->tensorflow) (0.42.0)\n",
            "Requirement already satisfied: google-auth<3,>=1.6.3 in /usr/local/lib/python3.10/dist-packages (from tensorboard<2.16,>=2.15->tensorflow) (2.17.3)\n",
            "Requirement already satisfied: google-auth-oauthlib<2,>=0.5 in /usr/local/lib/python3.10/dist-packages (from tensorboard<2.16,>=2.15->tensorflow) (1.2.0)\n",
            "Requirement already satisfied: markdown>=2.6.8 in /usr/local/lib/python3.10/dist-packages (from tensorboard<2.16,>=2.15->tensorflow) (3.5.2)\n",
            "Requirement already satisfied: requests<3,>=2.21.0 in /usr/local/lib/python3.10/dist-packages (from tensorboard<2.16,>=2.15->tensorflow) (2.31.0)\n",
            "Requirement already satisfied: tensorboard-data-server<0.8.0,>=0.7.0 in /usr/local/lib/python3.10/dist-packages (from tensorboard<2.16,>=2.15->tensorflow) (0.7.2)\n",
            "Requirement already satisfied: werkzeug>=1.0.1 in /usr/local/lib/python3.10/dist-packages (from tensorboard<2.16,>=2.15->tensorflow) (3.0.1)\n",
            "Requirement already satisfied: cachetools<6.0,>=2.0.0 in /usr/local/lib/python3.10/dist-packages (from google-auth<3,>=1.6.3->tensorboard<2.16,>=2.15->tensorflow) (5.3.2)\n",
            "Requirement already satisfied: pyasn1-modules>=0.2.1 in /usr/local/lib/python3.10/dist-packages (from google-auth<3,>=1.6.3->tensorboard<2.16,>=2.15->tensorflow) (0.3.0)\n",
            "Requirement already satisfied: rsa<5,>=3.1.4 in /usr/local/lib/python3.10/dist-packages (from google-auth<3,>=1.6.3->tensorboard<2.16,>=2.15->tensorflow) (4.9)\n",
            "Requirement already satisfied: requests-oauthlib>=0.7.0 in /usr/local/lib/python3.10/dist-packages (from google-auth-oauthlib<2,>=0.5->tensorboard<2.16,>=2.15->tensorflow) (1.3.1)\n",
            "Requirement already satisfied: charset-normalizer<4,>=2 in /usr/local/lib/python3.10/dist-packages (from requests<3,>=2.21.0->tensorboard<2.16,>=2.15->tensorflow) (3.3.2)\n",
            "Requirement already satisfied: idna<4,>=2.5 in /usr/local/lib/python3.10/dist-packages (from requests<3,>=2.21.0->tensorboard<2.16,>=2.15->tensorflow) (3.6)\n",
            "Requirement already satisfied: urllib3<3,>=1.21.1 in /usr/local/lib/python3.10/dist-packages (from requests<3,>=2.21.0->tensorboard<2.16,>=2.15->tensorflow) (2.0.7)\n",
            "Requirement already satisfied: certifi>=2017.4.17 in /usr/local/lib/python3.10/dist-packages (from requests<3,>=2.21.0->tensorboard<2.16,>=2.15->tensorflow) (2023.11.17)\n",
            "Requirement already satisfied: MarkupSafe>=2.1.1 in /usr/local/lib/python3.10/dist-packages (from werkzeug>=1.0.1->tensorboard<2.16,>=2.15->tensorflow) (2.1.4)\n",
            "Requirement already satisfied: pyasn1<0.6.0,>=0.4.6 in /usr/local/lib/python3.10/dist-packages (from pyasn1-modules>=0.2.1->google-auth<3,>=1.6.3->tensorboard<2.16,>=2.15->tensorflow) (0.5.1)\n",
            "Requirement already satisfied: oauthlib>=3.0.0 in /usr/local/lib/python3.10/dist-packages (from requests-oauthlib>=0.7.0->google-auth-oauthlib<2,>=0.5->tensorboard<2.16,>=2.15->tensorflow) (3.2.2)\n"
          ]
        }
      ],
      "source": [
        "!pip3 install pandas numpy matplotlib\n",
        "!pip3 install scikit-learn\n",
        "!pip3 install google-colab\n",
        "!pip3 install tensorflow"
      ]
    },
    {
      "cell_type": "markdown",
      "source": [
        "# Load the libs"
      ],
      "metadata": {
        "id": "DjrDM7e80yMM"
      }
    },
    {
      "cell_type": "code",
      "execution_count": null,
      "metadata": {
        "id": "zFjozQ_yGWwA"
      },
      "outputs": [],
      "source": [
        "import pandas as pd\n",
        "import numpy as np\n",
        "import tensorflow as tf\n",
        "from sklearn.model_selection import train_test_split\n",
        "from sklearn.metrics import accuracy_score\n",
        "from sklearn.preprocessing import MinMaxScaler\n",
        "from sklearn.metrics import mean_absolute_error\n",
        "import matplotlib.pyplot as plt"
      ]
    },
    {
      "cell_type": "markdown",
      "source": [
        "# Load the E2.csv dataset"
      ],
      "metadata": {
        "id": "VDr11uLc03s0"
      }
    },
    {
      "cell_type": "code",
      "execution_count": null,
      "metadata": {
        "colab": {
          "base_uri": "https://localhost:8080/"
        },
        "id": "0OGfKpe2GdZ9",
        "outputId": "a9e6d5bb-83ca-4a3a-9bab-cced0af3b258"
      },
      "outputs": [
        {
          "output_type": "stream",
          "name": "stdout",
          "text": [
            "    Time       HoTe            AwTe  FTHG  FTAG FTR  HTHG  HTAG HTR  \\\n",
            "0  15:00   Barnsley       Port Vale     7     0   H     2     0   H   \n",
            "1  15:00  Blackpool          Burton     2     0   H     2     0   H   \n",
            "2  15:00     Bolton         Lincoln     3     0   H     1     0   H   \n",
            "3  15:00  Cambridge          Oxford     2     0   H     2     0   H   \n",
            "4  15:00   Carlisle  Fleetwood Town     1     1   D     1     1   D   \n",
            "\n",
            "             Ref  ...  HBP  ABP  HTTG  FTTG  TS  TST  TC  TF  TY  TR  \n",
            "0         D Rock  ...   60   20     2     7  25   12   9  29   8   0  \n",
            "1  S Stockbridge  ...   40   10     2     2  24    7  11  22   5   0  \n",
            "2       W Finnie  ...   30   30     1     3  22    4  11  35   6   0  \n",
            "3         S Gill  ...   40   10     2     2  20    9  12  19   5   0  \n",
            "4       P Wright  ...   20   30     2     2  28   11   7  26   5   0  \n",
            "\n",
            "[5 rows x 32 columns]\n",
            "Index(['Time', 'HoTe', 'AwTe', 'FTHG', 'FTAG', 'FTR', 'HTHG', 'HTAG', 'HTR',\n",
            "       'Ref', 'HS', 'AS', 'HST', 'AST', 'HF', 'AF', 'HC', 'AC', 'HY', 'AY',\n",
            "       'HR', 'AR', 'HBP', 'ABP', 'HTTG', 'FTTG', 'TS', 'TST', 'TC', 'TF', 'TY',\n",
            "       'TR'],\n",
            "      dtype='object')\n",
            "Time    object\n",
            "HoTe    object\n",
            "AwTe    object\n",
            "FTHG     int64\n",
            "FTAG     int64\n",
            "FTR     object\n",
            "HTHG     int64\n",
            "HTAG     int64\n",
            "HTR     object\n",
            "Ref     object\n",
            "HS       int64\n",
            "AS       int64\n",
            "HST      int64\n",
            "AST      int64\n",
            "HF       int64\n",
            "AF       int64\n",
            "HC       int64\n",
            "AC       int64\n",
            "HY       int64\n",
            "AY       int64\n",
            "HR       int64\n",
            "AR       int64\n",
            "HBP      int64\n",
            "ABP      int64\n",
            "HTTG     int64\n",
            "FTTG     int64\n",
            "TS       int64\n",
            "TST      int64\n",
            "TC       int64\n",
            "TF       int64\n",
            "TY       int64\n",
            "TR       int64\n",
            "dtype: object\n",
            "              FTHG         FTAG         HTHG         HTAG           HS  \\\n",
            "count  1244.000000  1244.000000  1244.000000  1244.000000  1244.000000   \n",
            "mean      1.438907     1.165595     0.643087     0.534566    13.159164   \n",
            "std       1.238416     1.132383     0.817906     0.732815     4.974471   \n",
            "min       0.000000     0.000000     0.000000     0.000000     2.000000   \n",
            "25%       1.000000     0.000000     0.000000     0.000000     9.000000   \n",
            "50%       1.000000     1.000000     0.000000     0.000000    13.000000   \n",
            "75%       2.000000     2.000000     1.000000     1.000000    16.000000   \n",
            "max       7.000000     7.000000     5.000000     4.000000    33.000000   \n",
            "\n",
            "                AS          HST          AST           HF           AF  ...  \\\n",
            "count  1244.000000  1244.000000  1244.000000  1244.000000  1244.000000  ...   \n",
            "mean     11.140675     4.385852     3.735531    10.709807    11.288585  ...   \n",
            "std       4.697304     2.318000     2.196682     3.359673     3.446102  ...   \n",
            "min       1.000000     0.000000     0.000000     2.000000     2.000000  ...   \n",
            "25%       8.000000     3.000000     2.000000     8.000000     9.000000  ...   \n",
            "50%      11.000000     4.000000     4.000000    10.000000    11.000000  ...   \n",
            "75%      14.000000     6.000000     5.000000    13.000000    14.000000  ...   \n",
            "max      31.000000    13.000000    12.000000    22.000000    22.000000  ...   \n",
            "\n",
            "               HBP          ABP         HTTG         FTTG           TS  \\\n",
            "count  1244.000000  1244.000000  1244.000000  1244.000000  1244.000000   \n",
            "mean     18.163183    21.559486     1.177653     2.604502    24.299839   \n",
            "std      14.244952    15.201108     1.038184     1.598827     5.702264   \n",
            "min       0.000000     0.000000     0.000000     0.000000     8.000000   \n",
            "25%      10.000000    10.000000     0.000000     1.000000    20.000000   \n",
            "50%      20.000000    20.000000     1.000000     2.000000    24.000000   \n",
            "75%      30.000000    30.000000     2.000000     4.000000    28.000000   \n",
            "max      85.000000   115.000000     6.000000    10.000000    43.000000   \n",
            "\n",
            "               TST           TC           TF           TY           TR  \n",
            "count  1244.000000  1244.000000  1244.000000  1244.000000  1244.000000  \n",
            "mean      8.121383    10.245177    21.998392     3.596463     0.150322  \n",
            "std       2.996468     3.371384     4.881047     1.920258     0.404012  \n",
            "min       1.000000     1.000000     9.000000     0.000000     0.000000  \n",
            "25%       6.000000     8.000000    18.000000     2.000000     0.000000  \n",
            "50%       8.000000    10.000000    22.000000     3.000000     0.000000  \n",
            "75%      10.000000    13.000000    25.000000     5.000000     0.000000  \n",
            "max      19.000000    21.000000    40.000000    12.000000     3.000000  \n",
            "\n",
            "[8 rows x 26 columns]\n",
            "<class 'pandas.core.frame.DataFrame'>\n",
            "RangeIndex: 1244 entries, 0 to 1243\n",
            "Data columns (total 32 columns):\n",
            " #   Column  Non-Null Count  Dtype \n",
            "---  ------  --------------  ----- \n",
            " 0   Time    1244 non-null   object\n",
            " 1   HoTe    1244 non-null   object\n",
            " 2   AwTe    1244 non-null   object\n",
            " 3   FTHG    1244 non-null   int64 \n",
            " 4   FTAG    1244 non-null   int64 \n",
            " 5   FTR     1244 non-null   object\n",
            " 6   HTHG    1244 non-null   int64 \n",
            " 7   HTAG    1244 non-null   int64 \n",
            " 8   HTR     1244 non-null   object\n",
            " 9   Ref     1244 non-null   object\n",
            " 10  HS      1244 non-null   int64 \n",
            " 11  AS      1244 non-null   int64 \n",
            " 12  HST     1244 non-null   int64 \n",
            " 13  AST     1244 non-null   int64 \n",
            " 14  HF      1244 non-null   int64 \n",
            " 15  AF      1244 non-null   int64 \n",
            " 16  HC      1244 non-null   int64 \n",
            " 17  AC      1244 non-null   int64 \n",
            " 18  HY      1244 non-null   int64 \n",
            " 19  AY      1244 non-null   int64 \n",
            " 20  HR      1244 non-null   int64 \n",
            " 21  AR      1244 non-null   int64 \n",
            " 22  HBP     1244 non-null   int64 \n",
            " 23  ABP     1244 non-null   int64 \n",
            " 24  HTTG    1244 non-null   int64 \n",
            " 25  FTTG    1244 non-null   int64 \n",
            " 26  TS      1244 non-null   int64 \n",
            " 27  TST     1244 non-null   int64 \n",
            " 28  TC      1244 non-null   int64 \n",
            " 29  TF      1244 non-null   int64 \n",
            " 30  TY      1244 non-null   int64 \n",
            " 31  TR      1244 non-null   int64 \n",
            "dtypes: int64(26), object(6)\n",
            "memory usage: 311.1+ KB\n",
            "None\n"
          ]
        }
      ],
      "source": [
        "file_name = 'E2.csv'\n",
        "# Define a function to convert time to text\n",
        "def convert_time_to_text(value):\n",
        "    return str(value)\n",
        "\n",
        "# Specify the converters dictionary\n",
        "converters = {'Time': convert_time_to_text}\n",
        "\n",
        "# Read the CSV file with converters\n",
        "data = pd.read_csv(file_name, converters=converters)\n",
        "\n",
        "# Display the first few rows of your dataset to check the column names\n",
        "print(data.head())\n",
        "print(data.columns)\n",
        "print(data.dtypes)\n",
        "print(data.describe())\n",
        "print(data.info())"
      ]
    },
    {
      "cell_type": "markdown",
      "source": [
        "# Define the feature columns and target columns"
      ],
      "metadata": {
        "id": "b72HQsTu09fu"
      }
    },
    {
      "cell_type": "code",
      "source": [
        "# Define the feature columns and target columns\n",
        "text_categorical_features = [\"Time\", \"HoTe\", \"AwTe\", \"Ref\"]\n",
        "integer_target_columns = [\"FTHG\", \"FTAG\", \"HTHG\", \"HTAG\", \"HS\", \"AS\", \"HST\", \"AST\", \"HF\", \"AF\", \"HC\", \"AC\", \"HY\", \"AY\", \"HR\", \"AR\", \"HBP\", \"ABP\", \"HTTG\", \"FTTG\", \"TS\", \"TST\", \"TC\", \"TF\", \"TY\", \"TR\"]\n",
        "y_columns = ['FTHG', 'FTAG', 'FTR', 'HTHG', 'HTAG', 'HTR', 'HS', 'AS', 'HST', 'AST', 'HF', 'AF', 'HC', 'AC', 'HY', 'AY', 'HR', 'AR', 'HBP', 'ABP', 'HTTG', 'FTTG', 'TS', 'TST', 'TC', 'TF', 'TY', 'TR']\n",
        "text_categorical_target_columns = [\"FTR\", \"HTR\"]\n",
        "\n",
        "# One-hot encode the 'Time' column\n",
        "X_encoded_time = pd.get_dummies(data[['Time']])\n",
        "X_encoded_time.columns = ['Time_' + str(col) for col in X_encoded_time.columns]  # Add a prefix to the column names\n",
        "X_encoded_time.reset_index(drop=True, inplace=True)  # Reset the index for proper concatenation\n",
        "\n",
        "# Combine one-hot-encoded 'Time' with other text-categorical features\n",
        "X_encoded = pd.concat([data.drop(['Time'], axis=1), X_encoded_time, pd.get_dummies(data[text_categorical_features])], axis=1)\n",
        "X_encoded = X_encoded.drop(integer_target_columns, axis=1)\n",
        "X_encoded = X_encoded.drop([\"HoTe\", \"AwTe\", \"Ref\", \"FTR\", \"HTR\"], axis=1)\n",
        "# Replace 'True' with 1 and 'False' with 0 in X_encoded\n",
        "X_encoded = X_encoded.applymap(lambda x: 1 if x == True else (0 if x == False else x))\n",
        "\n",
        "# One-hot encode the text-categorical target columns\n",
        "y_encoded = pd.get_dummies(data[text_categorical_target_columns])\n",
        "y_encoded_copy = y_encoded\n",
        "y_encoded_copy = y_encoded_copy.applymap(lambda x: 1 if x == True else (0 if x == False else x))\n",
        "print(\"One-hot encoded dummies for y_encoded: \")\n",
        "print(y_encoded)"
      ],
      "metadata": {
        "colab": {
          "base_uri": "https://localhost:8080/"
        },
        "id": "hNUL2vDFhnJI",
        "outputId": "f0303843-5e0e-4d4a-deb0-90748e1ab17c"
      },
      "execution_count": null,
      "outputs": [
        {
          "output_type": "stream",
          "name": "stdout",
          "text": [
            "One-hot encoded dummies for y_encoded: \n",
            "      FTR_A  FTR_D  FTR_H  HTR_A  HTR_D  HTR_H\n",
            "0         0      0      1      0      0      1\n",
            "1         0      0      1      0      0      1\n",
            "2         0      0      1      0      0      1\n",
            "3         0      0      1      0      0      1\n",
            "4         0      1      0      0      1      0\n",
            "...     ...    ...    ...    ...    ...    ...\n",
            "1239      1      0      0      1      0      0\n",
            "1240      0      1      0      0      0      1\n",
            "1241      1      0      0      1      0      0\n",
            "1242      0      0      1      0      0      1\n",
            "1243      1      0      0      1      0      0\n",
            "\n",
            "[1244 rows x 6 columns]\n"
          ]
        }
      ]
    },
    {
      "cell_type": "markdown",
      "source": [
        "# Scale the input values of integer_target_columns"
      ],
      "metadata": {
        "id": "NtJW9eOe1CsG"
      }
    },
    {
      "cell_type": "code",
      "source": [
        "# Define the scaler\n",
        "scaler = MinMaxScaler(feature_range=(0, 1))\n",
        "\n",
        "# Scale the input values of integer_target_columns\n",
        "data[integer_target_columns] = scaler.fit_transform(data[integer_target_columns])\n",
        "y_encoded = pd.concat([y_encoded, data[integer_target_columns]], axis=1)\n",
        "# Replace 'True' with 1 and 'False' with 0 in y_encoded\n",
        "y_encoded = y_encoded.applymap(lambda x: 1 if x == True else (0 if x == False else x))\n",
        "\n",
        "# Combine one-hot-encoded targets with the original dataframe excluding text-categorical target columns\n",
        "data_encoded = pd.concat([X_encoded, y_encoded], axis=1)\n",
        "\n",
        "# Print the resulting dataframe\n",
        "print(\"data_encoded: \")\n",
        "print(data_encoded)\n",
        "\n",
        "X = X_encoded\n",
        "y = y_encoded\n",
        "print(\"X: \")\n",
        "print(X)\n",
        "print(\"y: \")\n",
        "print(y)"
      ],
      "metadata": {
        "colab": {
          "base_uri": "https://localhost:8080/"
        },
        "id": "I345DAIfhs5l",
        "outputId": "9175fd48-c378-4f5e-b6f1-8307c7c77ebf"
      },
      "execution_count": null,
      "outputs": [
        {
          "output_type": "stream",
          "name": "stdout",
          "text": [
            "data_encoded: \n",
            "      Time_Time_12:00  Time_Time_12:30  Time_Time_13:00  Time_Time_14:00  \\\n",
            "0                   0                0                0                0   \n",
            "1                   0                0                0                0   \n",
            "2                   0                0                0                0   \n",
            "3                   0                0                0                0   \n",
            "4                   0                0                0                0   \n",
            "...               ...              ...              ...              ...   \n",
            "1239                0                1                0                0   \n",
            "1240                0                1                0                0   \n",
            "1241                0                1                0                0   \n",
            "1242                0                1                0                0   \n",
            "1243                0                1                0                0   \n",
            "\n",
            "      Time_Time_15:00  Time_Time_15:15  Time_Time_17:15  Time_Time_17:30  \\\n",
            "0                   1                0                0                0   \n",
            "1                   1                0                0                0   \n",
            "2                   1                0                0                0   \n",
            "3                   1                0                0                0   \n",
            "4                   1                0                0                0   \n",
            "...               ...              ...              ...              ...   \n",
            "1239                0                0                0                0   \n",
            "1240                0                0                0                0   \n",
            "1241                0                0                0                0   \n",
            "1242                0                0                0                0   \n",
            "1243                0                0                0                0   \n",
            "\n",
            "      Time_Time_19:45  Time_Time_20:00  ...       HBP       ABP      HTTG  \\\n",
            "0                   0                0  ...  0.705882  0.173913  0.333333   \n",
            "1                   0                0  ...  0.470588  0.086957  0.333333   \n",
            "2                   0                0  ...  0.352941  0.260870  0.166667   \n",
            "3                   0                0  ...  0.470588  0.086957  0.333333   \n",
            "4                   0                0  ...  0.235294  0.260870  0.333333   \n",
            "...               ...              ...  ...       ...       ...       ...   \n",
            "1239                0                0  ...  0.470588  0.086957  0.166667   \n",
            "1240                0                0  ...  0.000000  0.086957  0.166667   \n",
            "1241                0                0  ...  0.411765  0.000000  0.500000   \n",
            "1242                0                0  ...  0.352941  0.086957  0.666667   \n",
            "1243                0                0  ...  0.235294  0.000000  0.166667   \n",
            "\n",
            "      FTTG        TS       TST    TC        TF        TY        TR  \n",
            "0      0.7  0.485714  0.611111  0.40  0.645161  0.666667  0.000000  \n",
            "1      0.2  0.457143  0.333333  0.50  0.419355  0.416667  0.000000  \n",
            "2      0.3  0.400000  0.166667  0.50  0.838710  0.500000  0.000000  \n",
            "3      0.2  0.342857  0.444444  0.55  0.322581  0.416667  0.000000  \n",
            "4      0.2  0.571429  0.555556  0.30  0.548387  0.416667  0.000000  \n",
            "...    ...       ...       ...   ...       ...       ...       ...  \n",
            "1239   0.1  0.114286  0.111111  0.30  0.612903  0.416667  0.000000  \n",
            "1240   0.2  0.342857  0.388889  0.55  0.580645  0.083333  0.000000  \n",
            "1241   0.5  0.685714  0.777778  0.40  0.516129  0.083333  0.333333  \n",
            "1242   0.5  0.457143  0.555556  0.50  0.419355  0.333333  0.000000  \n",
            "1243   0.3  0.285714  0.388889  0.25  0.677419  0.166667  0.000000  \n",
            "\n",
            "[1244 rows x 201 columns]\n",
            "X: \n",
            "      Time_Time_12:00  Time_Time_12:30  Time_Time_13:00  Time_Time_14:00  \\\n",
            "0                   0                0                0                0   \n",
            "1                   0                0                0                0   \n",
            "2                   0                0                0                0   \n",
            "3                   0                0                0                0   \n",
            "4                   0                0                0                0   \n",
            "...               ...              ...              ...              ...   \n",
            "1239                0                1                0                0   \n",
            "1240                0                1                0                0   \n",
            "1241                0                1                0                0   \n",
            "1242                0                1                0                0   \n",
            "1243                0                1                0                0   \n",
            "\n",
            "      Time_Time_15:00  Time_Time_15:15  Time_Time_17:15  Time_Time_17:30  \\\n",
            "0                   1                0                0                0   \n",
            "1                   1                0                0                0   \n",
            "2                   1                0                0                0   \n",
            "3                   1                0                0                0   \n",
            "4                   1                0                0                0   \n",
            "...               ...              ...              ...              ...   \n",
            "1239                0                0                0                0   \n",
            "1240                0                0                0                0   \n",
            "1241                0                0                0                0   \n",
            "1242                0                0                0                0   \n",
            "1243                0                0                0                0   \n",
            "\n",
            "      Time_Time_19:45  Time_Time_20:00  ...  Ref_S Stockbridge  Ref_S Tallis  \\\n",
            "0                   0                0  ...                  0             0   \n",
            "1                   0                0  ...                  1             0   \n",
            "2                   0                0  ...                  0             0   \n",
            "3                   0                0  ...                  0             0   \n",
            "4                   0                0  ...                  0             0   \n",
            "...               ...              ...  ...                ...           ...   \n",
            "1239                0                0  ...                  0             0   \n",
            "1240                0                0  ...                  0             0   \n",
            "1241                0                0  ...                  0             0   \n",
            "1242                0                0  ...                  0             0   \n",
            "1243                0                0  ...                  0             0   \n",
            "\n",
            "      Ref_T Bramall  Ref_T Kettle  Ref_T Kirk  Ref_T Nield  Ref_T Parsons  \\\n",
            "0                 0             0           0            0              0   \n",
            "1                 0             0           0            0              0   \n",
            "2                 0             0           0            0              0   \n",
            "3                 0             0           0            0              0   \n",
            "4                 0             0           0            0              0   \n",
            "...             ...           ...         ...          ...            ...   \n",
            "1239              0             0           0            0              0   \n",
            "1240              0             1           0            0              0   \n",
            "1241              0             0           0            0              0   \n",
            "1242              0             0           0            0              0   \n",
            "1243              0             0           0            0              0   \n",
            "\n",
            "      Ref_T Reeves  Ref_T Robinson  Ref_W Finnie  \n",
            "0                0               0             0  \n",
            "1                0               0             0  \n",
            "2                0               0             1  \n",
            "3                0               0             0  \n",
            "4                0               0             0  \n",
            "...            ...             ...           ...  \n",
            "1239             0               0             0  \n",
            "1240             0               0             0  \n",
            "1241             0               0             0  \n",
            "1242             0               0             0  \n",
            "1243             0               0             0  \n",
            "\n",
            "[1244 rows x 169 columns]\n",
            "y: \n",
            "      FTR_A  FTR_D  FTR_H  HTR_A  HTR_D  HTR_H      FTHG      FTAG  HTHG  \\\n",
            "0         0      0      1      0      0      1  1.000000  0.000000   0.4   \n",
            "1         0      0      1      0      0      1  0.285714  0.000000   0.4   \n",
            "2         0      0      1      0      0      1  0.428571  0.000000   0.2   \n",
            "3         0      0      1      0      0      1  0.285714  0.000000   0.4   \n",
            "4         0      1      0      0      1      0  0.142857  0.142857   0.2   \n",
            "...     ...    ...    ...    ...    ...    ...       ...       ...   ...   \n",
            "1239      1      0      0      1      0      0  0.000000  0.142857   0.0   \n",
            "1240      0      1      0      0      0      1  0.142857  0.142857   0.2   \n",
            "1241      1      0      0      1      0      0  0.000000  0.714286   0.0   \n",
            "1242      0      0      1      0      0      1  0.571429  0.142857   0.6   \n",
            "1243      1      0      0      1      0      0  0.000000  0.428571   0.0   \n",
            "\n",
            "      HTAG  ...       HBP       ABP      HTTG  FTTG        TS       TST    TC  \\\n",
            "0     0.00  ...  0.705882  0.173913  0.333333   0.7  0.485714  0.611111  0.40   \n",
            "1     0.00  ...  0.470588  0.086957  0.333333   0.2  0.457143  0.333333  0.50   \n",
            "2     0.00  ...  0.352941  0.260870  0.166667   0.3  0.400000  0.166667  0.50   \n",
            "3     0.00  ...  0.470588  0.086957  0.333333   0.2  0.342857  0.444444  0.55   \n",
            "4     0.25  ...  0.235294  0.260870  0.333333   0.2  0.571429  0.555556  0.30   \n",
            "...    ...  ...       ...       ...       ...   ...       ...       ...   ...   \n",
            "1239  0.25  ...  0.470588  0.086957  0.166667   0.1  0.114286  0.111111  0.30   \n",
            "1240  0.00  ...  0.000000  0.086957  0.166667   0.2  0.342857  0.388889  0.55   \n",
            "1241  0.75  ...  0.411765  0.000000  0.500000   0.5  0.685714  0.777778  0.40   \n",
            "1242  0.25  ...  0.352941  0.086957  0.666667   0.5  0.457143  0.555556  0.50   \n",
            "1243  0.25  ...  0.235294  0.000000  0.166667   0.3  0.285714  0.388889  0.25   \n",
            "\n",
            "            TF        TY        TR  \n",
            "0     0.645161  0.666667  0.000000  \n",
            "1     0.419355  0.416667  0.000000  \n",
            "2     0.838710  0.500000  0.000000  \n",
            "3     0.322581  0.416667  0.000000  \n",
            "4     0.548387  0.416667  0.000000  \n",
            "...        ...       ...       ...  \n",
            "1239  0.612903  0.416667  0.000000  \n",
            "1240  0.580645  0.083333  0.000000  \n",
            "1241  0.516129  0.083333  0.333333  \n",
            "1242  0.419355  0.333333  0.000000  \n",
            "1243  0.677419  0.166667  0.000000  \n",
            "\n",
            "[1244 rows x 32 columns]\n"
          ]
        }
      ]
    },
    {
      "cell_type": "markdown",
      "source": [
        "# Define the model"
      ],
      "metadata": {
        "id": "3u_cpcrq1H_K"
      }
    },
    {
      "cell_type": "code",
      "source": [
        "# Assuming X and y are your input and output dataframes\n",
        "# Convert X and y to numpy arrays\n",
        "X = X.values\n",
        "y = y.values\n",
        "\n",
        "# Split the dataset into training and testing sets\n",
        "X_train, X_test, y_train, y_test = train_test_split(X, y, test_size=0.1, random_state=42)\n",
        "\n",
        "# Define the model\n",
        "model = tf.keras.models.Sequential()\n",
        "\n",
        "# Input layer\n",
        "print(\"X.shape[1]: \")\n",
        "print(X.shape[1])"
      ],
      "metadata": {
        "colab": {
          "base_uri": "https://localhost:8080/"
        },
        "id": "-x091fifh1_u",
        "outputId": "b20605bd-0a3e-4474-91af-2caf83f0b7fd"
      },
      "execution_count": null,
      "outputs": [
        {
          "output_type": "stream",
          "name": "stdout",
          "text": [
            "X.shape[1]: \n",
            "169\n"
          ]
        }
      ]
    },
    {
      "cell_type": "markdown",
      "source": [
        "# Train the model"
      ],
      "metadata": {
        "id": "v2yOyR--1LlY"
      }
    },
    {
      "cell_type": "code",
      "source": [
        "model.add(tf.keras.layers.Input(shape=(X.shape[1],)))\n",
        "\n",
        "# Hidden layers\n",
        "model.add(tf.keras.layers.Dense(64, activation='relu'))\n",
        "model.add(tf.keras.layers.Dense(32, activation='relu'))\n",
        "model.add(tf.keras.layers.Dense(16, activation='relu'))\n",
        "\n",
        "# Output layer\n",
        "print(\"y.shape[1]: \")\n",
        "print(y.shape[1])\n",
        "model.add(tf.keras.layers.Dense(y.shape[1], activation='sigmoid'))\n",
        "\n",
        "# Compile the model\n",
        "model.compile(optimizer='adam', loss='binary_crossentropy', metrics=['accuracy'])\n",
        "\n",
        "# Train the model\n",
        "# model.fit(X_train, y_train, epochs=50, batch_size=16, validation_split=0.1)\n",
        "history = model.fit(X_train, y_train, epochs=50, batch_size=16, validation_split=0.1)\n",
        "\n",
        "# Save the model\n",
        "model.save('my_model.h5')"
      ],
      "metadata": {
        "colab": {
          "base_uri": "https://localhost:8080/"
        },
        "id": "8T3dyjC9iLQO",
        "outputId": "299779e1-159d-4ab7-ab01-7deb4b210fe2"
      },
      "execution_count": null,
      "outputs": [
        {
          "output_type": "stream",
          "name": "stdout",
          "text": [
            "y.shape[1]: \n",
            "32\n",
            "Epoch 1/50\n",
            "63/63 [==============================] - 2s 8ms/step - loss: 0.6589 - accuracy: 9.9305e-04 - val_loss: 0.6089 - val_accuracy: 0.0000e+00\n",
            "Epoch 2/50\n",
            "63/63 [==============================] - 0s 3ms/step - loss: 0.5767 - accuracy: 0.0070 - val_loss: 0.5609 - val_accuracy: 0.0714\n",
            "Epoch 3/50\n",
            "63/63 [==============================] - 0s 3ms/step - loss: 0.5554 - accuracy: 0.1539 - val_loss: 0.5532 - val_accuracy: 0.0804\n",
            "Epoch 4/50\n",
            "63/63 [==============================] - 0s 3ms/step - loss: 0.5513 - accuracy: 0.1619 - val_loss: 0.5519 - val_accuracy: 0.1429\n",
            "Epoch 5/50\n",
            "63/63 [==============================] - 0s 3ms/step - loss: 0.5495 - accuracy: 0.1748 - val_loss: 0.5512 - val_accuracy: 0.2411\n",
            "Epoch 6/50\n",
            "63/63 [==============================] - 0s 3ms/step - loss: 0.5471 - accuracy: 0.2562 - val_loss: 0.5508 - val_accuracy: 0.1429\n",
            "Epoch 7/50\n",
            "63/63 [==============================] - 0s 3ms/step - loss: 0.5440 - accuracy: 0.2671 - val_loss: 0.5507 - val_accuracy: 0.2768\n",
            "Epoch 8/50\n",
            "63/63 [==============================] - 0s 4ms/step - loss: 0.5404 - accuracy: 0.2790 - val_loss: 0.5516 - val_accuracy: 0.3125\n",
            "Epoch 9/50\n",
            "63/63 [==============================] - 0s 5ms/step - loss: 0.5371 - accuracy: 0.3535 - val_loss: 0.5523 - val_accuracy: 0.2946\n",
            "Epoch 10/50\n",
            "63/63 [==============================] - 0s 3ms/step - loss: 0.5336 - accuracy: 0.3833 - val_loss: 0.5525 - val_accuracy: 0.3125\n",
            "Epoch 11/50\n",
            "63/63 [==============================] - 0s 3ms/step - loss: 0.5300 - accuracy: 0.4280 - val_loss: 0.5542 - val_accuracy: 0.3214\n",
            "Epoch 12/50\n",
            "63/63 [==============================] - 0s 3ms/step - loss: 0.5269 - accuracy: 0.4628 - val_loss: 0.5569 - val_accuracy: 0.2857\n",
            "Epoch 13/50\n",
            "63/63 [==============================] - 0s 3ms/step - loss: 0.5234 - accuracy: 0.4747 - val_loss: 0.5591 - val_accuracy: 0.3393\n",
            "Epoch 14/50\n",
            "63/63 [==============================] - 0s 3ms/step - loss: 0.5201 - accuracy: 0.4866 - val_loss: 0.5619 - val_accuracy: 0.3661\n",
            "Epoch 15/50\n",
            "63/63 [==============================] - 0s 3ms/step - loss: 0.5155 - accuracy: 0.5104 - val_loss: 0.5669 - val_accuracy: 0.3125\n",
            "Epoch 16/50\n",
            "63/63 [==============================] - 0s 3ms/step - loss: 0.5112 - accuracy: 0.5164 - val_loss: 0.5710 - val_accuracy: 0.3393\n",
            "Epoch 17/50\n",
            "63/63 [==============================] - 0s 3ms/step - loss: 0.5070 - accuracy: 0.5353 - val_loss: 0.5754 - val_accuracy: 0.3214\n",
            "Epoch 18/50\n",
            "63/63 [==============================] - 0s 3ms/step - loss: 0.5028 - accuracy: 0.5362 - val_loss: 0.5785 - val_accuracy: 0.3393\n",
            "Epoch 19/50\n",
            "63/63 [==============================] - 0s 3ms/step - loss: 0.4980 - accuracy: 0.5571 - val_loss: 0.5840 - val_accuracy: 0.3304\n",
            "Epoch 20/50\n",
            "63/63 [==============================] - 0s 3ms/step - loss: 0.4937 - accuracy: 0.5650 - val_loss: 0.5912 - val_accuracy: 0.3036\n",
            "Epoch 21/50\n",
            "63/63 [==============================] - 0s 3ms/step - loss: 0.4896 - accuracy: 0.5839 - val_loss: 0.5962 - val_accuracy: 0.2946\n",
            "Epoch 22/50\n",
            "63/63 [==============================] - 0s 3ms/step - loss: 0.4860 - accuracy: 0.5929 - val_loss: 0.6010 - val_accuracy: 0.2946\n",
            "Epoch 23/50\n",
            "63/63 [==============================] - 0s 3ms/step - loss: 0.4831 - accuracy: 0.6058 - val_loss: 0.6082 - val_accuracy: 0.2768\n",
            "Epoch 24/50\n",
            "63/63 [==============================] - 0s 8ms/step - loss: 0.4789 - accuracy: 0.6226 - val_loss: 0.6132 - val_accuracy: 0.2589\n",
            "Epoch 25/50\n",
            "63/63 [==============================] - 0s 6ms/step - loss: 0.4760 - accuracy: 0.6197 - val_loss: 0.6192 - val_accuracy: 0.2768\n",
            "Epoch 26/50\n",
            "63/63 [==============================] - 0s 5ms/step - loss: 0.4730 - accuracy: 0.6286 - val_loss: 0.6225 - val_accuracy: 0.2857\n",
            "Epoch 27/50\n",
            "63/63 [==============================] - 1s 10ms/step - loss: 0.4705 - accuracy: 0.6365 - val_loss: 0.6287 - val_accuracy: 0.2768\n",
            "Epoch 28/50\n",
            "63/63 [==============================] - 1s 12ms/step - loss: 0.4682 - accuracy: 0.6276 - val_loss: 0.6347 - val_accuracy: 0.2768\n",
            "Epoch 29/50\n",
            "63/63 [==============================] - 1s 13ms/step - loss: 0.4647 - accuracy: 0.6296 - val_loss: 0.6413 - val_accuracy: 0.2500\n",
            "Epoch 30/50\n",
            "63/63 [==============================] - 1s 12ms/step - loss: 0.4623 - accuracy: 0.6485 - val_loss: 0.6458 - val_accuracy: 0.2679\n",
            "Epoch 31/50\n",
            "63/63 [==============================] - 0s 7ms/step - loss: 0.4602 - accuracy: 0.6336 - val_loss: 0.6591 - val_accuracy: 0.2500\n",
            "Epoch 32/50\n",
            "63/63 [==============================] - 0s 6ms/step - loss: 0.4575 - accuracy: 0.6216 - val_loss: 0.6651 - val_accuracy: 0.2500\n",
            "Epoch 33/50\n",
            "63/63 [==============================] - 0s 5ms/step - loss: 0.4551 - accuracy: 0.6266 - val_loss: 0.6681 - val_accuracy: 0.2411\n",
            "Epoch 34/50\n",
            "63/63 [==============================] - 0s 6ms/step - loss: 0.4526 - accuracy: 0.6207 - val_loss: 0.6761 - val_accuracy: 0.2500\n",
            "Epoch 35/50\n",
            "63/63 [==============================] - 0s 6ms/step - loss: 0.4506 - accuracy: 0.6048 - val_loss: 0.6819 - val_accuracy: 0.2768\n",
            "Epoch 36/50\n",
            "63/63 [==============================] - 0s 5ms/step - loss: 0.4485 - accuracy: 0.6028 - val_loss: 0.6906 - val_accuracy: 0.2500\n",
            "Epoch 37/50\n",
            "63/63 [==============================] - 0s 7ms/step - loss: 0.4466 - accuracy: 0.5849 - val_loss: 0.6923 - val_accuracy: 0.2411\n",
            "Epoch 38/50\n",
            "63/63 [==============================] - 0s 7ms/step - loss: 0.4452 - accuracy: 0.5889 - val_loss: 0.7054 - val_accuracy: 0.2589\n",
            "Epoch 39/50\n",
            "63/63 [==============================] - 0s 6ms/step - loss: 0.4434 - accuracy: 0.5551 - val_loss: 0.7089 - val_accuracy: 0.2321\n",
            "Epoch 40/50\n",
            "63/63 [==============================] - 0s 8ms/step - loss: 0.4414 - accuracy: 0.5581 - val_loss: 0.7151 - val_accuracy: 0.2500\n",
            "Epoch 41/50\n",
            "63/63 [==============================] - 0s 7ms/step - loss: 0.4399 - accuracy: 0.5472 - val_loss: 0.7230 - val_accuracy: 0.2411\n",
            "Epoch 42/50\n",
            "63/63 [==============================] - 0s 6ms/step - loss: 0.4383 - accuracy: 0.5521 - val_loss: 0.7301 - val_accuracy: 0.2411\n",
            "Epoch 43/50\n",
            "63/63 [==============================] - 0s 6ms/step - loss: 0.4363 - accuracy: 0.5313 - val_loss: 0.7325 - val_accuracy: 0.2232\n",
            "Epoch 44/50\n",
            "63/63 [==============================] - 1s 10ms/step - loss: 0.4348 - accuracy: 0.5025 - val_loss: 0.7429 - val_accuracy: 0.2411\n",
            "Epoch 45/50\n",
            "63/63 [==============================] - 1s 10ms/step - loss: 0.4335 - accuracy: 0.4975 - val_loss: 0.7449 - val_accuracy: 0.2321\n",
            "Epoch 46/50\n",
            "63/63 [==============================] - 1s 11ms/step - loss: 0.4321 - accuracy: 0.4965 - val_loss: 0.7498 - val_accuracy: 0.2411\n",
            "Epoch 47/50\n",
            "63/63 [==============================] - 1s 13ms/step - loss: 0.4308 - accuracy: 0.4717 - val_loss: 0.7601 - val_accuracy: 0.2679\n",
            "Epoch 48/50\n",
            "63/63 [==============================] - 1s 9ms/step - loss: 0.4299 - accuracy: 0.4697 - val_loss: 0.7638 - val_accuracy: 0.2143\n",
            "Epoch 49/50\n",
            "63/63 [==============================] - 0s 5ms/step - loss: 0.4285 - accuracy: 0.4796 - val_loss: 0.7669 - val_accuracy: 0.2500\n",
            "Epoch 50/50\n",
            "63/63 [==============================] - 0s 6ms/step - loss: 0.4270 - accuracy: 0.4647 - val_loss: 0.7795 - val_accuracy: 0.2232\n"
          ]
        },
        {
          "output_type": "stream",
          "name": "stderr",
          "text": [
            "/usr/local/lib/python3.10/dist-packages/keras/src/engine/training.py:3103: UserWarning: You are saving your model as an HDF5 file via `model.save()`. This file format is considered legacy. We recommend using instead the native Keras format, e.g. `model.save('my_model.keras')`.\n",
            "  saving_api.save_model(\n"
          ]
        }
      ]
    },
    {
      "cell_type": "markdown",
      "source": [
        "# Plot training accuracy"
      ],
      "metadata": {
        "id": "OuUm9I8O1P4n"
      }
    },
    {
      "cell_type": "code",
      "source": [
        "# Access training history\n",
        "training_accuracy = history.history['accuracy']\n",
        "validation_loss = history.history['val_loss']\n",
        "\n",
        "# Plot training accuracy\n",
        "plt.plot(training_accuracy, label='Training Accuracy')\n",
        "plt.xlabel('Epochs')\n",
        "plt.ylabel('Accuracy')\n",
        "plt.title('Training Accuracy over Epochs')\n",
        "plt.legend()\n",
        "plt.show()"
      ],
      "metadata": {
        "colab": {
          "base_uri": "https://localhost:8080/",
          "height": 472
        },
        "id": "uuaz0KaKiLgd",
        "outputId": "60ca7c5a-9676-4352-fa30-88248255bd13"
      },
      "execution_count": null,
      "outputs": [
        {
          "output_type": "display_data",
          "data": {
            "text/plain": [
              "<Figure size 640x480 with 1 Axes>"
            ],
            "image/png": "[encoded data removed]"
          },
          "metadata": {}
        }
      ]
    },
    {
      "cell_type": "markdown",
      "source": [
        "# Plot validation loss"
      ],
      "metadata": {
        "id": "HUfQaGZe1ScH"
      }
    },
    {
      "cell_type": "code",
      "source": [
        "# Plot validation loss\n",
        "plt.plot(validation_loss, label='Validation Loss')\n",
        "plt.xlabel('Epochs')\n",
        "plt.ylabel('Loss')\n",
        "plt.title('Validation Loss over Epochs')\n",
        "plt.legend()\n",
        "plt.show()"
      ],
      "metadata": {
        "colab": {
          "base_uri": "https://localhost:8080/",
          "height": 472
        },
        "id": "XU7jJb2AiL-d",
        "outputId": "025844f4-6104-4621-d9fe-865c5ba47fc1"
      },
      "execution_count": null,
      "outputs": [
        {
          "output_type": "display_data",
          "data": {
            "text/plain": [
              "<Figure size 640x480 with 1 Axes>"
            ],
            "image/png": "[encoded data removed]"
          },
          "metadata": {}
        }
      ]
    },
    {
      "cell_type": "markdown",
      "source": [
        "# Evaluate the model on the test set"
      ],
      "metadata": {
        "id": "JSpL5mFe1Ywt"
      }
    },
    {
      "cell_type": "code",
      "source": [
        "# Evaluate the model on the test set\n",
        "y_pred = model.predict(X_test)\n",
        "\n",
        "# Convert predicted probabilities to binary values\n",
        "y_pred_binary = (y_pred > 0.5).astype(int)\n",
        "y_pred_binary = y_pred\n",
        "print(\"X_test: \")\n",
        "print(X_test)\n",
        "print(\"y_pred_binary: \")\n",
        "print(y_pred_binary)"
      ],
      "metadata": {
        "colab": {
          "base_uri": "https://localhost:8080/"
        },
        "id": "2sITPmKsicSS",
        "outputId": "f30ea093-6477-4c3e-dd1c-6dd4128ebd35"
      },
      "execution_count": null,
      "outputs": [
        {
          "output_type": "stream",
          "name": "stdout",
          "text": [
            "4/4 [==============================] - 0s 4ms/step\n",
            "X_test: \n",
            "[[0 0 0 ... 0 0 0]\n",
            " [0 0 0 ... 0 0 0]\n",
            " [0 0 0 ... 0 0 0]\n",
            " ...\n",
            " [0 0 0 ... 0 0 0]\n",
            " [0 0 0 ... 0 0 0]\n",
            " [0 0 0 ... 0 0 0]]\n",
            "y_pred_binary: \n",
            "[[1.8643537e-03 9.7214746e-01 5.5404834e-02 ... 3.1655896e-01\n",
            "  2.9652593e-01 1.6626108e-02]\n",
            " [6.1014044e-01 8.6149588e-02 5.4082770e-02 ... 4.3385500e-01\n",
            "  3.4605259e-01 8.8324569e-02]\n",
            " [9.8857701e-01 2.8402971e-02 1.3312633e-04 ... 4.6644831e-01\n",
            "  3.3062577e-01 3.2653630e-02]\n",
            " ...\n",
            " [9.9845779e-01 1.3622956e-02 1.0794919e-07 ... 4.1732848e-01\n",
            "  1.8234497e-01 4.7209654e-02]\n",
            " [3.0959463e-01 6.5815421e-03 4.4953349e-01 ... 5.0950646e-01\n",
            "  3.0303121e-01 3.9007731e-02]\n",
            " [9.8525399e-01 1.1994192e-01 4.4316994e-06 ... 4.8643091e-01\n",
            "  3.3003274e-01 1.7380306e-02]]\n"
          ]
        }
      ]
    },
    {
      "cell_type": "markdown",
      "source": [
        "# Evaluate the model on the test set for each output column\n",
        "## Save and reload the model for making predictions"
      ],
      "metadata": {
        "id": "hnsrnfck1eMD"
      }
    },
    {
      "cell_type": "code",
      "source": [
        "# Evaluate the model on the test set for each output column\n",
        "mae_scores = []\n",
        "for i in range(y.shape[1]):\n",
        "    y_true_column = y_test[:, i]\n",
        "    y_pred_column = y_pred[:, i]\n",
        "\n",
        "    mae = mean_absolute_error(y_true_column, y_pred_column)\n",
        "    mae_scores.append(mae)\n",
        "\n",
        "# Calculate the mean MAE across all output columns\n",
        "mean_mae = sum(mae_scores) / len(mae_scores)\n",
        "print(f'Mean MAE: {mean_mae}')\n",
        "\n",
        "# Save and reload the model for making predictions\n",
        "model.save('my_model.h5')\n",
        "model = tf.keras.models.load_model('my_model.h5')"
      ],
      "metadata": {
        "colab": {
          "base_uri": "https://localhost:8080/"
        },
        "id": "8SYUDuf0idJF",
        "outputId": "5509090f-6a44-4f56-b1de-59d3429c2bf9"
      },
      "execution_count": null,
      "outputs": [
        {
          "output_type": "stream",
          "name": "stdout",
          "text": [
            "Mean MAE: 0.18685012603001627\n"
          ]
        },
        {
          "output_type": "stream",
          "name": "stderr",
          "text": [
            "/usr/local/lib/python3.10/dist-packages/keras/src/engine/training.py:3103: UserWarning: You are saving your model as an HDF5 file via `model.save()`. This file format is considered legacy. We recommend using instead the native Keras format, e.g. `model.save('my_model.keras')`.\n",
            "  saving_api.save_model(\n"
          ]
        }
      ]
    },
    {
      "cell_type": "markdown",
      "source": [
        "# Define the new data"
      ],
      "metadata": {
        "id": "1j_1CQvz1lkG"
      }
    },
    {
      "cell_type": "code",
      "source": [
        "# Define the new data\n",
        "new_data = pd.DataFrame({'Time': ['15:00'], 'HoTe': ['Blackpool'], 'AwTe': ['Burton'], 'Ref': ['S Stockbridge']})\n",
        "\n",
        "# One-hot encode the 'Time' column\n",
        "new_data_encoded_time = pd.get_dummies(new_data[['Time']])\n",
        "new_data_encoded_time.columns = ['Time_' + str(col) for col in new_data_encoded_time.columns]  # Add a prefix to the column names\n",
        "new_data_encoded_time.reset_index(drop=True, inplace=True)  # Reset the index for proper concatenation\n",
        "\n",
        "# Combine one-hot-encoded 'Time' with other text-categorical features\n",
        "new_data_encoded = pd.concat([new_data.drop(['Time'], axis=1), new_data_encoded_time, pd.get_dummies(new_data[text_categorical_features])], axis=1)\n",
        "new_data_encoded = new_data_encoded.reindex(columns=X_encoded.columns, fill_value=0)  # Reorder columns to match the order in X_train_df.columns\n",
        "new_data_encoded = new_data_encoded.astype(np.float32)  # Convert NumPy array to float32\n",
        "print(\" new_data_encoded: \")\n",
        "print(new_data_encoded)"
      ],
      "metadata": {
        "colab": {
          "base_uri": "https://localhost:8080/"
        },
        "id": "e4gASUVDidkz",
        "outputId": "fb70402f-2a6d-44e9-dc40-150f2c1decfb"
      },
      "execution_count": null,
      "outputs": [
        {
          "output_type": "stream",
          "name": "stdout",
          "text": [
            " new_data_encoded: \n",
            "   Time_Time_12:00  Time_Time_12:30  Time_Time_13:00  Time_Time_14:00  \\\n",
            "0              0.0              0.0              0.0              0.0   \n",
            "\n",
            "   Time_Time_15:00  Time_Time_15:15  Time_Time_17:15  Time_Time_17:30  \\\n",
            "0              1.0              0.0              0.0              0.0   \n",
            "\n",
            "   Time_Time_19:45  Time_Time_20:00  ...  Ref_S Stockbridge  Ref_S Tallis  \\\n",
            "0              0.0              0.0  ...                1.0           0.0   \n",
            "\n",
            "   Ref_T Bramall  Ref_T Kettle  Ref_T Kirk  Ref_T Nield  Ref_T Parsons  \\\n",
            "0            0.0           0.0         0.0          0.0            0.0   \n",
            "\n",
            "   Ref_T Reeves  Ref_T Robinson  Ref_W Finnie  \n",
            "0           0.0             0.0           0.0  \n",
            "\n",
            "[1 rows x 169 columns]\n"
          ]
        }
      ]
    },
    {
      "cell_type": "markdown",
      "source": [
        "# Make predictions on the new_data_encoded"
      ],
      "metadata": {
        "id": "6xVi_6w61q8C"
      }
    },
    {
      "cell_type": "code",
      "source": [
        "# Make predictions on the new_data_encoded\n",
        "prediction = model.predict(new_data_encoded)\n",
        "print(\"prediction: \")\n",
        "print(prediction)\n",
        "print(prediction.shape)"
      ],
      "metadata": {
        "colab": {
          "base_uri": "https://localhost:8080/"
        },
        "id": "13e9n0lSisvk",
        "outputId": "c4186239-8ff1-459f-f08c-d22d4447bfc5"
      },
      "execution_count": null,
      "outputs": [
        {
          "output_type": "stream",
          "name": "stdout",
          "text": [
            "1/1 [==============================] - 0s 71ms/step\n",
            "prediction: \n",
            "[[2.5827815e-06 1.3710701e-02 9.9972975e-01 1.9041688e-06 1.0332749e-03\n",
            "  9.9997497e-01 3.4140500e-01 2.4859928e-02 3.4216908e-01 6.0036476e-03\n",
            "  3.8872537e-01 1.5943046e-01 3.8020065e-01 1.3437803e-01 4.0444028e-01\n",
            "  4.8778749e-01 3.1428140e-01 1.4716907e-01 2.1258168e-01 2.3123170e-01\n",
            "  2.4034418e-03 4.7505103e-02 1.6402353e-01 1.8569511e-01 2.4244769e-01\n",
            "  2.9691559e-01 3.5477233e-01 3.1686264e-01 3.2924601e-01 4.1222346e-01\n",
            "  3.2652894e-01 2.1135094e-02]]\n",
            "(1, 32)\n"
          ]
        }
      ]
    },
    {
      "cell_type": "markdown",
      "source": [
        "# Display the inverse transformed predictions"
      ],
      "metadata": {
        "id": "26GToJZE1xji"
      }
    },
    {
      "cell_type": "code",
      "source": [
        "# Inverse transform the one-hot encoded part of the prediction output\n",
        "def inverse_transform_prediction(prediction, text_categorical_target_columns, y_encoded_copy, integer_target_columns, scaler):\n",
        "    # Extract the one-hot encoded part of the prediction for target columns\n",
        "    num_columns = len(y_encoded_copy.columns)\n",
        "    y_pred_one_hot = prediction[:, :num_columns]\n",
        "\n",
        "    # Inverse transform the scaled integer predictions\n",
        "    y_pred_integer_scaled = prediction[:, num_columns:]\n",
        "    y_pred_integer = scaler.inverse_transform(y_pred_integer_scaled)\n",
        "\n",
        "    # Map integer values to text values for target columns using y_encoded_copy\n",
        "    y_pred_text_target_categorical = [\n",
        "        [\n",
        "            y_encoded_copy.columns[i] for i in range(len(y_encoded_copy.columns) // 2) if row[i] == 1\n",
        "        ] +\n",
        "        [\n",
        "            y_encoded_copy.columns[i] for i in range(len(y_encoded_copy.columns) // 2, len(y_encoded_copy.columns)) if\n",
        "            row[i] == 1\n",
        "        ]\n",
        "        for row in np.round(y_pred_one_hot)\n",
        "    ]\n",
        "\n",
        "    # Extract the last character from 'FTR' and 'HTR' columns\n",
        "    ftr_htr_cols = ['FTR', 'HTR']\n",
        "    y_pred_text_target_categorical = [val[-1] if col in ftr_htr_cols else val for val, col in\n",
        "                                       zip(y_pred_text_target_categorical, y_encoded_copy)]\n",
        "\n",
        "    # Convert the predicted integer values to text values for integer_target_columns\n",
        "    y_pred_text_target_integer = [\n",
        "        [str(round(value)) for value in row]\n",
        "        for row in y_pred_integer\n",
        "    ]\n",
        "\n",
        "    # Concatenate the categorical and integer predictions\n",
        "    y_pred_text_target = [\n",
        "        cat + intg for cat, intg in zip(y_pred_text_target_categorical, y_pred_text_target_integer)\n",
        "    ]\n",
        "\n",
        "    return y_pred_text_target\n",
        "\n",
        "# Use the function to inverse transform the predictions\n",
        "y_pred_text = inverse_transform_prediction(prediction, text_categorical_target_columns, y_encoded_copy, integer_target_columns, scaler)\n",
        "\n",
        "# Display the inverse transformed predictions\n",
        "print(\"Inputs for Prediction:\")\n",
        "print(new_data)\n",
        "print(\"Inverse Transformed Text Predictions:\")\n",
        "print(y_pred_text)"
      ],
      "metadata": {
        "colab": {
          "base_uri": "https://localhost:8080/"
        },
        "id": "PG3snmzhitPS",
        "outputId": "7b57aff4-71f5-4a5a-a4b1-4a8535a674cd"
      },
      "execution_count": null,
      "outputs": [
        {
          "output_type": "stream",
          "name": "stdout",
          "text": [
            "Inputs for Prediction:\n",
            "    Time       HoTe    AwTe            Ref\n",
            "0  15:00  Blackpool  Burton  S Stockbridge\n",
            "Inverse Transformed Text Predictions:\n",
            "[['FTR_H', 'HTR_H', '2', '0', '2', '0', '14', '6', '5', '2', '10', '12', '5', '2', '1', '2', '0', '0', '14', '21', '1', '3', '20', '7', '8', '22', '4', '0']]\n"
          ]
        }
      ]
    }
  ],
  "metadata": {
    "colab": {
      "provenance": []
    },
    "kernelspec": {
      "display_name": "Python 3",
      "name": "python3"
    },
    "language_info": {
      "name": "python"
    }
  },
  "nbformat": 4,
  "nbformat_minor": 0
}